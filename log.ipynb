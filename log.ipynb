{
 "cells": [
  {
   "cell_type": "markdown",
   "id": "f5b070df",
   "metadata": {},
   "source": []
  },
  {
   "cell_type": "code",
   "execution_count": null,
   "id": "b16e57dd",
   "metadata": {},
   "outputs": [],
   "source": [
    "\"\"\"lesson notes from 22.07.2024г.\"\"\""
   ]
  },
  {
   "cell_type": "markdown",
   "id": "6fc98fae",
   "metadata": {},
   "source": [
    "Урок был посвещен изучению алгоритмов принятия и отправки домашней работы.\n",
    "Для того чтобы принять домашнюю работу необхдимо: зайти на GitHub, нажать на Fetch origin затем нажать на Pull origin. Далее идем в историю.\n",
    "Для того, чтобы отправить домашнюю работу необходимо: зайти на GitHub, нажать на вкладку \"Изменения\", выделить тему, которую хотим отправить, в поле \"Коммиты\" записать наименовани е коммита. После в терменале запустить проверку на линтеры, набрав pre-commit run --all-files. Нажать commit to main. Затем нажать на вкладку Push origin, затем нажать на Fetch\n"
   ]
  }
 ],
 "metadata": {
  "jupytext": {
   "main_language": "python"
  }
 },
 "nbformat": 4,
 "nbformat_minor": 5
}
